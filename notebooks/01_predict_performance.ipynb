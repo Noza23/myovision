{
  "cells": [
    {
      "cell_type": "code",
      "execution_count": 1,
      "metadata": {
        "colab": {
          "base_uri": "https://localhost:8080/",
          "height": 41
        },
        "id": "llLLrtSGzHFi",
        "outputId": "0cf97f39-45bc-4f8e-d7b5-433a4b272c48"
      },
      "outputs": [
        {
          "data": {
            "text/html": [
              "\n",
              "<a target=\"_blank\" href=\"https://colab.research.google.com/github/Noza23/myovision/blob/main/notebooks/01_predict_performance.ipynb\">\n",
              "  <img src=\"https://colab.research.google.com/assets/colab-badge.svg\" alt=\"Open In Colab\"/>\n",
              "</a>\n"
            ],
            "text/plain": [
              "<IPython.core.display.HTML object>"
            ]
          },
          "metadata": {},
          "output_type": "display_data"
        }
      ],
      "source": [
        "from IPython.display import display, HTML\n",
        "display(HTML(\n",
        "\"\"\"\n",
        "<a target=\"_blank\" href=\"https://colab.research.google.com/github/Noza23/myovision/blob/main/notebooks/01_predict_performance.ipynb\">\n",
        "  <img src=\"https://colab.research.google.com/assets/colab-badge.svg\" alt=\"Open In Colab\"/>\n",
        "</a>\n",
        "\"\"\"\n",
        "))"
      ]
    },
    {
      "cell_type": "code",
      "execution_count": null,
      "metadata": {
        "id": "vOR1s6HTzIt1"
      },
      "outputs": [],
      "source": [
        "# Dependencies\n",
        "!pip install 'myo_sam[all] @ git+https://github.com/Noza23/myovision-sam.git'\n",
        "!pip install read-roi"
      ]
    },
    {
      "cell_type": "markdown",
      "metadata": {
        "id": "HPsnI2LwzZcq"
      },
      "source": [
        "# Predict"
      ]
    },
    {
      "cell_type": "code",
      "execution_count": 4,
      "metadata": {
        "id": "T7tSgPXXmQRJ"
      },
      "outputs": [],
      "source": [
        "from myo_sam.inference.predictors.config import AmgConfig\n",
        "from myo_sam.inference.pipeline import Pipeline"
      ]
    },
    {
      "cell_type": "code",
      "execution_count": 7,
      "metadata": {
        "id": "VA-ikcvGm7CT"
      },
      "outputs": [],
      "source": [
        "amg_config = AmgConfig.model_validate(\n",
        "  {\n",
        "    \"points_per_side\": 300,\n",
        "    \"points_per_batch\": 100,\n",
        "    \"pred_iou_thresh\": 0.85,\n",
        "    \"box_nms_thresh\": 0.5,\n",
        "    \"stability_score_thresh\": 0.95,\n",
        "    \"crop_n_layers\": 0,\n",
        "    \"crop_n_points_downscale_factor\": 2,\n",
        "    \"min_mask_region_area\": 100\n",
        "  }\n",
        ")"
      ]
    },
    {
      "cell_type": "code",
      "execution_count": null,
      "metadata": {
        "id": "XwOfibUQnZrg"
      },
      "outputs": [],
      "source": [
        "# Setting-up models\n",
        "pipeline = Pipeline()\n",
        "pipeline._myosam_predictor.set_model(\"drive/MyDrive/myovision/checkpoint/myosam.pt\", device=\"cuda:0\")\n",
        "pipeline._myosam_predictor.update_amg_config(amg_config)\n",
        "pipeline._stardist_predictor.set_model(\"2D_versatile_fluo\")"
      ]
    },
    {
      "cell_type": "code",
      "execution_count": 10,
      "metadata": {
        "id": "11-Vmdn0oInf"
      },
      "outputs": [],
      "source": [
        "# Setting images\n",
        "pipeline.set_myotube_image(\"../assets/myotube.tif\", name=\"test_myotube_image\")\n",
        "pipeline.set_nuclei_image(\"../assets/nuclei.tif\", name=\"test_nuclei_image\")"
      ]
    },
    {
      "cell_type": "code",
      "execution_count": 11,
      "metadata": {
        "colab": {
          "base_uri": "https://localhost:8080/"
        },
        "id": "dFl6dqQCoqbb",
        "outputId": "9a81dbaf-dc2d-4b7a-fc71-74614871ee2c"
      },
      "outputs": [
        {
          "name": "stdout",
          "output_type": "stream",
          "text": [
            "> Predicting Myotubes...\n",
            "> Predicting patch 1/1...\n",
            "> Predicting Nucleis...\n"
          ]
        }
      ],
      "source": [
        "# Run Prediction\n",
        "results = pipeline.execute()"
      ]
    },
    {
      "cell_type": "markdown",
      "metadata": {
        "id": "lRjHyttpzmVo"
      },
      "source": [
        "# Inference"
      ]
    },
    {
      "cell_type": "code",
      "execution_count": 20,
      "metadata": {
        "colab": {
          "base_uri": "https://localhost:8080/"
        },
        "id": "jJ0RF3YVpWtI",
        "outputId": "d63c7d10-54ad-4411-d531-add1f8a692ff"
      },
      "outputs": [
        {
          "name": "stdout",
          "output_type": "stream",
          "text": [
            "total_myotubes: 183\n",
            "total_nucleis: 1823\n",
            "total_myoblasts: 1307\n",
            "total_nuclei_inside_myotubes: 516\n",
            "total_fusion_index: 0.39\n",
            "num_nuclei_clusters: 91\n",
            "total_myotubes_area: 449525.0\n",
            "total_nucleis_area: 302436.5\n",
            "total_myoblasts_area: 227054.5\n",
            "total_nucleis_inside_myotubes_area: 75382.0\n",
            "num_clusters: 91\n"
          ]
        }
      ],
      "source": [
        "# General\n",
        "print(results.information_metrics)\n",
        "print(results.information_metrics.nuclei_clusters)"
      ]
    },
    {
      "cell_type": "code",
      "execution_count": 22,
      "metadata": {
        "colab": {
          "base_uri": "https://localhost:8080/"
        },
        "id": "LFpH6z43qd6c",
        "outputId": "18d52212-2e63-480f-fd09-54ee3cb26ed9"
      },
      "outputs": [
        {
          "name": "stdout",
          "output_type": "stream",
          "text": [
            "identifier: 0\n",
            "measure_unit: 1.0\n",
            "pred_iou: 0.99\n",
            "stability: 0.97\n",
            "is_on_edge: False\n",
            "nuclei_ids: [74, 141, 427, 503, 564, 1116, 1266, 1274, 1532, 1585, 1671, 1675, 1801]\n",
            "rgb_min: (0, 11, 0)\n",
            "rgb_max: (0, 128, 0)\n",
            "rgb_mean: (0, 60.65387918694532, 0)\n",
            "rgb_median: (0, 62, 0)\n",
            "rgb_mode: (0, 69, 0)\n",
            "rgb_std: (0.0, 17.975194514885562, 0.0)\n",
            "integrated_density_rgb: (0, 635592, 0)\n",
            "area: 10193.0\n",
            "convex_area: 12644.5\n",
            "solidity: 0.81\n",
            "aspect_ratio: 0.22\n",
            "roundness: 3.5\n",
            "perimeter: 628.82\n",
            "max_feret_diameter: 280\n",
            "min_feret_diameter: 71\n",
            "circularity: 0.32\n",
            "instance_fusion_index: 13\n",
            "centroid: (870.109130859375, 281.94512939453125)\n"
          ]
        }
      ],
      "source": [
        "# Single Myotube\n",
        "print(results.information_metrics.myotubes[0])"
      ]
    },
    {
      "cell_type": "code",
      "execution_count": 23,
      "metadata": {
        "colab": {
          "base_uri": "https://localhost:8080/"
        },
        "id": "3iZDi_6nq3pk",
        "outputId": "ec3bda79-565a-46d6-ea77-7a06c3e286c1"
      },
      "outputs": [
        {
          "name": "stdout",
          "output_type": "stream",
          "text": [
            "identifier: 0\n",
            "measure_unit: 1.0\n",
            "myotube_ids: []\n",
            "centroid: (1078.0, 840.0)\n",
            "prob: None\n",
            "area: 141.5\n",
            "convex_area: 145.0\n",
            "solidity: 0.98\n",
            "aspect_ratio: 0.9\n",
            "roundness: 1.09\n",
            "perimeter: 44.45\n",
            "max_feret_diameter: 16\n",
            "min_feret_diameter: 14\n",
            "circularity: 0.9\n"
          ]
        }
      ],
      "source": [
        "# Single Nuclei\n",
        "print(results.information_metrics.nucleis[0])"
      ]
    },
    {
      "cell_type": "code",
      "execution_count": 35,
      "metadata": {
        "colab": {
          "base_uri": "https://localhost:8080/"
        },
        "id": "PW6xyQBnqqd-",
        "outputId": "f0077ed0-1d6d-455d-ea21-215f1d68cd20"
      },
      "outputs": [
        {
          "data": {
            "text/plain": [
              "NucleiCluster(myo_objects=[], mapping=defaultdict(None, {}), cluster_id='0_0', myotube_id=0, nuclei_ids=[427, 1801, 1274], num_nuclei=3)"
            ]
          },
          "execution_count": 35,
          "metadata": {},
          "output_type": "execute_result"
        }
      ],
      "source": [
        "# Single Cluster\n",
        "results.information_metrics.nuclei_clusters[0]"
      ]
    },
    {
      "cell_type": "markdown",
      "metadata": {
        "id": "w90zJkODzo0L"
      },
      "source": [
        "# Performance Evaluation"
      ]
    },
    {
      "cell_type": "code",
      "execution_count": 37,
      "metadata": {
        "id": "vSSkyS6GptTH"
      },
      "outputs": [],
      "source": [
        "import read_roi\n",
        "from myo_sam.inference.models.performance import PerformanceMetrics\n",
        "from myo_sam.inference.models.utils import coord2mask, rois2coords"
      ]
    },
    {
      "cell_type": "code",
      "execution_count": null,
      "metadata": {
        "id": "rbdFPzekpv0_"
      },
      "outputs": [],
      "source": [
        "nuclei_gt = read_roi.read_roi_zip('../assets/nuclei_masks.zip')\n",
        "myotube_gt = read_roi.read_roi_zip('../assets/myotube_masks.zip')\n",
        "nuclei_gt_coords = rois2coords(nuclei_gt)\n",
        "myotube_gt_coords = rois2coords(myotube_gt)\n",
        "\n",
        "nuclei_gt_masks = [\n",
        "  coord2mask(coord, pipeline.nuclei_image_np.shape)\n",
        "  for coord in nuclei_gt_coords\n",
        "]\n",
        "myotube_gt_masks = [\n",
        "  coord2mask(coord, pipeline.myotube_image_np.shape)\n",
        "  for coord in myotube_gt_coords\n",
        "]"
      ]
    },
    {
      "cell_type": "code",
      "execution_count": 46,
      "metadata": {
        "id": "KFvUvm84qKzK"
      },
      "outputs": [],
      "source": [
        "nuclei_pred_masks = [\n",
        " coord2mask(nuclei.roi_coords_np, pipeline.nuclei_image_np.shape)\n",
        "  for nuclei in results.information_metrics.nucleis\n",
        "]\n",
        "\n",
        "myotube_pred_masks = [\n",
        "  coord2mask(myotube.roi_coords_np, pipeline.myotube_image_np.shape)\n",
        "  for myotube in results.information_metrics.myotubes\n",
        "]"
      ]
    },
    {
      "cell_type": "code",
      "execution_count": null,
      "metadata": {
        "id": "NtFgN-P-tKqv"
      },
      "outputs": [],
      "source": [
        "# MyoSAM Performance Quantitative\n",
        "perf_myotubes = PerformanceMetrics.performance_myovision(\n",
        "  ref_loc=myotube_gt_masks,\n",
        "  pred_loc=myotube_pred_masks,\n",
        "  localization=\"mask_iou\",\n",
        "  thresh=0.5,\n",
        "  flag_fp_in=True,\n",
        "  object_type=\"myotubes\",\n",
        "  im_shape=pipeline.myotube_image_np.shape\n",
        ")"
      ]
    },
    {
      "cell_type": "code",
      "execution_count": null,
      "metadata": {
        "id": "hmL6n_c4uX4Z"
      },
      "outputs": [],
      "source": [
        "# StarDist Performance Quantitative\n",
        "perf_nucleis = PerformanceMetrics.performance_myovision(\n",
        "  ref_loc=nuclei_gt_masks,\n",
        "  pred_loc=nuclei_pred_masks,\n",
        "  localization=\"mask_ior\",\n",
        "  thresh=0.5,\n",
        "  flag_fp_in=True,\n",
        "  object_type=\"nuclei\",\n",
        "  im_shape=pipeline.nuclei_image_np.shape\n",
        ")"
      ]
    },
    {
      "cell_type": "markdown",
      "metadata": {
        "id": "-wjlAm94zv2j"
      },
      "source": [
        "# Performance Visualization"
      ]
    },
    {
      "cell_type": "code",
      "execution_count": null,
      "metadata": {
        "id": "2Cn43zAUu0kW"
      },
      "outputs": [],
      "source": [
        "import matplotlib.pyplot as plt\n",
        "import cv2"
      ]
    },
    {
      "cell_type": "code",
      "execution_count": null,
      "metadata": {
        "id": "DZnqqMh6wZ-J"
      },
      "outputs": [],
      "source": [
        "# MyoSAM Performance Visualization\n",
        "plt.figure(figsize=(15, 12))\n",
        "\n",
        "plt.subplot(2, 2, 1)\n",
        "plt.imshow(pipeline.myotube_image_np)\n",
        "plt.title('Myotube Image')\n",
        "plt.axis('off')\n",
        "\n",
        "plt.subplot(2, 2, 3)\n",
        "canvas = pipeline.myotube_image_np.copy()\n",
        "cv2.drawContours(canvas, myotube_gt_coords, -1, (255, 0, 0), 3)\n",
        "plt.imshow(canvas)\n",
        "plt.title('Reference Masks')\n",
        "plt.axis('off')\n",
        "\n",
        "plt.subplot(2, 2, 2)\n",
        "canvas = pipeline.myotube_image_np.copy()\n",
        "myotube_pred_coords = [myotube.roi_coords_np for myotube in results.information_metrics.myotubes]\n",
        "cv2.drawContours(canvas, myotube_pred_coords, -1, (0, 255, 0), 3)\n",
        "plt.imshow(canvas)\n",
        "plt.title('Predicted Masks (MyoSAM)')\n",
        "plt.axis('off')\n",
        "\n",
        "plt.show()"
      ]
    },
    {
      "cell_type": "code",
      "execution_count": null,
      "metadata": {
        "id": "7dq9mTRHxhAq"
      },
      "outputs": [],
      "source": [
        "# StarDist Performance Visualization\n",
        "plt.figure(figsize=(15, 15))\n",
        "\n",
        "plt.subplot(3, 2, 1)\n",
        "plt.imshow(pipeline.nuclei_image_np)\n",
        "plt.axis('off')\n",
        "plt.title('Original Image')\n",
        "\n",
        "plt.subplot(3, 2, 2)\n",
        "plt.imshow(pipeline.nuclei_image_np[100:500 , 100:500])\n",
        "plt.axis('off')\n",
        "plt.title('Image Patch')\n",
        "\n",
        "plt.subplot(3, 2, 3)\n",
        "canvas = pipeline.nuclei_image_np.copy()\n",
        "cv2.drawContours(canvas, nuclei_gt_coords, -1, (255, 0, 0), 1)\n",
        "plt.imshow(canvas)\n",
        "plt.axis('off')\n",
        "plt.title('Reference Masks')\n",
        "\n",
        "plt.subplot(3, 2, 4)\n",
        "plt.imshow(canvas[100:500 , 100:500])\n",
        "plt.axis('off')\n",
        "plt.title('Reference Masks Patch')\n",
        "\n",
        "plt.subplot(3, 2, 5)\n",
        "canvas = pipeline.nuclei_image_np.copy()\n",
        "nuclei_pred_coords = [nuclei.roi_coords_np for nuclei in results.information_metrics.nucleis]\n",
        "cv2.drawContours(canvas, nuclei_pred_coords, -1, (0, 255, 0), 1)\n",
        "plt.imshow(canvas)\n",
        "plt.axis('off')\n",
        "plt.title('Predicted Masks')\n",
        "\n",
        "plt.subplot(3, 2, 6)\n",
        "plt.imshow(canvas[100:500 , 100:500])\n",
        "plt.axis('off')\n",
        "plt.title('Predicted Masks Patch')\n",
        "\n",
        "plt.show()"
      ]
    }
  ],
  "metadata": {
    "accelerator": "GPU",
    "colab": {
      "gpuType": "T4",
      "provenance": []
    },
    "kernelspec": {
      "display_name": "Python 3",
      "name": "python3"
    },
    "language_info": {
      "codemirror_mode": {
        "name": "ipython",
        "version": 3
      },
      "file_extension": ".py",
      "mimetype": "text/x-python",
      "name": "python",
      "nbconvert_exporter": "python",
      "pygments_lexer": "ipython3",
      "version": "3.9.16"
    }
  },
  "nbformat": 4,
  "nbformat_minor": 0
}
